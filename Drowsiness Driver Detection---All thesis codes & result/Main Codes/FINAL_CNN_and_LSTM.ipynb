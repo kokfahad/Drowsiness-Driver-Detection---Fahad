{
  "nbformat": 4,
  "nbformat_minor": 0,
  "metadata": {
    "colab": {
      "name": "FINAL CNN and LSTM",
      "provenance": [],
      "collapsed_sections": []
    },
    "kernelspec": {
      "name": "python3",
      "display_name": "Python 3"
    },
    "accelerator": "TPU"
  },
  "cells": [
    {
      "cell_type": "code",
      "metadata": {
        "id": "sH8qVtUwSySR"
      },
      "source": [
        "from sklearn.base import BaseEstimator, TransformerMixin\n",
        "import pandas as pd\n",
        "from sklearn.model_selection import train_test_split\n",
        "from sklearn.metrics import roc_curve, roc_auc_score, f1_score\n",
        "from sklearn.naive_bayes import GaussianNB\n",
        "from sklearn.linear_model import LogisticRegression\n",
        "from sklearn.neural_network import MLPClassifier\n",
        "from sklearn.naive_bayes import BernoulliNB\n",
        "from sklearn.tree import DecisionTreeClassifier\n",
        "import numpy as np\n",
        "import matplotlib.pyplot as plt\n",
        "import seaborn as sns\n",
        "from sklearn.pipeline import Pipeline, FeatureUnion\n",
        "from sklearn.metrics import accuracy_score\n",
        "from sklearn.metrics import confusion_matrix\n",
        "from sklearn import metrics\n",
        "import warnings"
      ],
      "execution_count": null,
      "outputs": []
    },
    {
      "cell_type": "code",
      "metadata": {
        "id": "GiHb85g_S-9I",
        "colab": {
          "resources": {
            "http://localhost:8080/nbextensions/google.colab/files.js": {
              "data": "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",
              "ok": true,
              "headers": [
                [
                  "content-type",
                  "application/javascript"
                ]
              ],
              "status": 200,
              "status_text": ""
            }
          },
          "base_uri": "https://localhost:8080/",
          "height": 73
        },
        "outputId": "3c093ad5-60cd-480b-ea84-ae3db6c0b345"
      },
      "source": [
        "from google.colab import files\n",
        "uploaded = files.upload()"
      ],
      "execution_count": null,
      "outputs": [
        {
          "output_type": "display_data",
          "data": {
            "text/html": [
              "\n",
              "     <input type=\"file\" id=\"files-5a3562bd-e98e-4ee9-9825-2fd3f6c89e79\" name=\"files[]\" multiple disabled\n",
              "        style=\"border:none\" />\n",
              "     <output id=\"result-5a3562bd-e98e-4ee9-9825-2fd3f6c89e79\">\n",
              "      Upload widget is only available when the cell has been executed in the\n",
              "      current browser session. Please rerun this cell to enable.\n",
              "      </output>\n",
              "      <script src=\"/nbextensions/google.colab/files.js\"></script> "
            ],
            "text/plain": [
              "<IPython.core.display.HTML object>"
            ]
          },
          "metadata": {
            "tags": []
          }
        },
        {
          "output_type": "stream",
          "text": [
            "Saving shape_predictor_68_face_landmarks.dat to shape_predictor_68_face_landmarks.dat\n"
          ],
          "name": "stdout"
        }
      ]
    },
    {
      "cell_type": "code",
      "metadata": {
        "id": "eRw-fD2QRmLq",
        "colab": {
          "resources": {
            "http://localhost:8080/nbextensions/google.colab/files.js": {
              "data": "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",
              "ok": true,
              "headers": [
                [
                  "content-type",
                  "application/javascript"
                ]
              ],
              "status": 200,
              "status_text": ""
            }
          },
          "base_uri": "https://localhost:8080/",
          "height": 73
        },
        "outputId": "e611443d-d29d-45bd-b664-1307c0dcd4b2"
      },
      "source": [
        "from google.colab import files\n",
        "uploaded = files.upload()"
      ],
      "execution_count": null,
      "outputs": [
        {
          "output_type": "display_data",
          "data": {
            "text/html": [
              "\n",
              "     <input type=\"file\" id=\"files-a813d129-de9c-486a-bd7c-75fe2de0c766\" name=\"files[]\" multiple disabled\n",
              "        style=\"border:none\" />\n",
              "     <output id=\"result-a813d129-de9c-486a-bd7c-75fe2de0c766\">\n",
              "      Upload widget is only available when the cell has been executed in the\n",
              "      current browser session. Please rerun this cell to enable.\n",
              "      </output>\n",
              "      <script src=\"/nbextensions/google.colab/files.js\"></script> "
            ],
            "text/plain": [
              "<IPython.core.display.HTML object>"
            ]
          },
          "metadata": {
            "tags": []
          }
        },
        {
          "output_type": "stream",
          "text": [
            "Saving Fahad___final_with_main_features.csv to Fahad___final_with_main_features (1).csv\n"
          ],
          "name": "stdout"
        }
      ]
    },
    {
      "cell_type": "code",
      "metadata": {
        "id": "WyNqDSD7THDc"
      },
      "source": [
        "df = pd.read_csv('Fahad___final_with_main_features.csv',sep=',')\n",
        "df = df.drop(df.columns[0],axis=1)"
      ],
      "execution_count": null,
      "outputs": []
    },
    {
      "cell_type": "code",
      "metadata": {
        "id": "D1fhdEhyTI5s"
      },
      "source": [
        "train_percentage = 17/22\n",
        "train_index = int(len(df)*train_percentage)\n",
        "test_index = len(df)-train_index"
      ],
      "execution_count": null,
      "outputs": []
    },
    {
      "cell_type": "code",
      "metadata": {
        "id": "dZQ2IuO-TOVb"
      },
      "source": [
        "df_train = df[:train_index]\n",
        "df_test = df[-test_index:]"
      ],
      "execution_count": null,
      "outputs": []
    },
    {
      "cell_type": "code",
      "metadata": {
        "id": "Usf9h47mTYDy"
      },
      "source": [
        "X_test = df_test.drop([\"Y\"],axis=1)\n",
        "y_test = df_test[\"Y\"]"
      ],
      "execution_count": null,
      "outputs": []
    },
    {
      "cell_type": "code",
      "metadata": {
        "id": "3bAU_45GTbOx"
      },
      "source": [
        "X_train = df_train.drop('Y',axis=1)\n",
        "y_train = df_train['Y']"
      ],
      "execution_count": null,
      "outputs": []
    },
    {
      "cell_type": "code",
      "metadata": {
        "id": "3U-fKUXlTc-V"
      },
      "source": [
        "def average(y_pred):\n",
        "  for i in range(len(y_pred)):\n",
        "    if i % 240 == 0 or (i+1) % 240 == 0:\n",
        "      pass\n",
        "    else: \n",
        "      average = float(y_pred[i-1] +  y_pred[i] + y_pred[i+1])/3\n",
        "      if average >= 0.5:\n",
        "        y_pred[i] = 1\n",
        "      else:\n",
        "        y_pred[i] = 0\n",
        "  return y_pred"
      ],
      "execution_count": null,
      "outputs": []
    },
    {
      "cell_type": "code",
      "metadata": {
        "id": "ImabY1JmT0y-"
      },
      "source": [
        "X_train_shaped = np.expand_dims(X_train, axis=2)"
      ],
      "execution_count": null,
      "outputs": []
    },
    {
      "cell_type": "code",
      "metadata": {
        "id": "eaPZXA8KT3MT",
        "colab": {
          "base_uri": "https://localhost:8080/",
          "height": 34
        },
        "outputId": "d7b7db3c-c07b-4ae9-be57-1332e5d959f9"
      },
      "source": [
        "X_train_shaped.shape"
      ],
      "execution_count": null,
      "outputs": [
        {
          "output_type": "execute_result",
          "data": {
            "text/plain": [
              "(8160, 8, 1)"
            ]
          },
          "metadata": {
            "tags": []
          },
          "execution_count": 38
        }
      ]
    },
    {
      "cell_type": "code",
      "metadata": {
        "id": "-tW5GHHAT_20"
      },
      "source": [
        "X_test_shaped = np.expand_dims(X_test, axis=2)"
      ],
      "execution_count": null,
      "outputs": []
    },
    {
      "cell_type": "code",
      "metadata": {
        "id": "fMK2A5JGUDV8",
        "colab": {
          "base_uri": "https://localhost:8080/",
          "height": 34
        },
        "outputId": "fdcf02aa-9840-42f5-f39c-c7f5f77b0bf7"
      },
      "source": [
        "X_test_shaped.shape"
      ],
      "execution_count": null,
      "outputs": [
        {
          "output_type": "execute_result",
          "data": {
            "text/plain": [
              "(2400, 8, 1)"
            ]
          },
          "metadata": {
            "tags": []
          },
          "execution_count": 40
        }
      ]
    },
    {
      "cell_type": "code",
      "metadata": {
        "id": "IMGYNfd7UJHi",
        "colab": {
          "base_uri": "https://localhost:8080/",
          "height": 1000
        },
        "outputId": "e208c344-084f-4eb6-d738-bb489ed7387b"
      },
      "source": [
        "from keras.models import Sequential\n",
        "from keras.layers import Dense, Flatten\n",
        "from keras.layers.convolutional import Conv1D\n",
        "from keras.optimizers import Adam, RMSprop\n",
        "from keras.layers import Dropout\n",
        "## Create Model ##\n",
        "\n",
        "model = Sequential()\n",
        "\n",
        "model.add(Conv1D(64, kernel_size = 3, activation = 'relu', input_shape = (8,1)))\n",
        "model.add(Flatten())\n",
        "model.add(Dense(32, activation='relu'))\n",
        "model.add(Dense(16, activation = 'relu'))\n",
        "model.add(Dropout(0.2))\n",
        "model.add(Dense(1,activation = 'sigmoid'))\n",
        "\n",
        "\n",
        "## Compile Model ##\n",
        "optimizer = Adam(lr=0.00001)\n",
        "model.compile(loss='binary_crossentropy', optimizer=optimizer, metrics=['accuracy'])\n",
        "\n",
        "## Train Model and Check Validation Accuracy ##\n",
        "model.fit(X_train_shaped, y_train, validation_data = (X_test_shaped,y_test), epochs = 100)"
      ],
      "execution_count": null,
      "outputs": [
        {
          "output_type": "stream",
          "text": [
            "Epoch 1/100\n",
            "255/255 [==============================] - 0s 2ms/step - loss: 0.7131 - accuracy: 0.5267 - val_loss: 0.8235 - val_accuracy: 0.5567\n",
            "Epoch 2/100\n",
            "255/255 [==============================] - 0s 1ms/step - loss: 0.6826 - accuracy: 0.5806 - val_loss: 0.7750 - val_accuracy: 0.5717\n",
            "Epoch 3/100\n",
            "255/255 [==============================] - 0s 1ms/step - loss: 0.6660 - accuracy: 0.6088 - val_loss: 0.7385 - val_accuracy: 0.5867\n",
            "Epoch 4/100\n",
            "255/255 [==============================] - 0s 1ms/step - loss: 0.6595 - accuracy: 0.6261 - val_loss: 0.7195 - val_accuracy: 0.5958\n",
            "Epoch 5/100\n",
            "255/255 [==============================] - 0s 2ms/step - loss: 0.6523 - accuracy: 0.6362 - val_loss: 0.7127 - val_accuracy: 0.6050\n",
            "Epoch 6/100\n",
            "255/255 [==============================] - 0s 2ms/step - loss: 0.6449 - accuracy: 0.6403 - val_loss: 0.7022 - val_accuracy: 0.6100\n",
            "Epoch 7/100\n",
            "255/255 [==============================] - 0s 2ms/step - loss: 0.6374 - accuracy: 0.6570 - val_loss: 0.6956 - val_accuracy: 0.6125\n",
            "Epoch 8/100\n",
            "255/255 [==============================] - 0s 2ms/step - loss: 0.6327 - accuracy: 0.6630 - val_loss: 0.6869 - val_accuracy: 0.6225\n",
            "Epoch 9/100\n",
            "255/255 [==============================] - 0s 2ms/step - loss: 0.6275 - accuracy: 0.6656 - val_loss: 0.6844 - val_accuracy: 0.6275\n",
            "Epoch 10/100\n",
            "255/255 [==============================] - 0s 2ms/step - loss: 0.6196 - accuracy: 0.6777 - val_loss: 0.6772 - val_accuracy: 0.6325\n",
            "Epoch 11/100\n",
            "255/255 [==============================] - 0s 2ms/step - loss: 0.6152 - accuracy: 0.6860 - val_loss: 0.6751 - val_accuracy: 0.6317\n",
            "Epoch 12/100\n",
            "255/255 [==============================] - 0s 2ms/step - loss: 0.6115 - accuracy: 0.6884 - val_loss: 0.6745 - val_accuracy: 0.6308\n",
            "Epoch 13/100\n",
            "255/255 [==============================] - 0s 2ms/step - loss: 0.6051 - accuracy: 0.6971 - val_loss: 0.6688 - val_accuracy: 0.6383\n",
            "Epoch 14/100\n",
            "255/255 [==============================] - 0s 2ms/step - loss: 0.6057 - accuracy: 0.6911 - val_loss: 0.6649 - val_accuracy: 0.6400\n",
            "Epoch 15/100\n",
            "255/255 [==============================] - 0s 2ms/step - loss: 0.5988 - accuracy: 0.6952 - val_loss: 0.6644 - val_accuracy: 0.6283\n",
            "Epoch 16/100\n",
            "255/255 [==============================] - 0s 2ms/step - loss: 0.5939 - accuracy: 0.7021 - val_loss: 0.6600 - val_accuracy: 0.6408\n",
            "Epoch 17/100\n",
            "255/255 [==============================] - 0s 2ms/step - loss: 0.5894 - accuracy: 0.7066 - val_loss: 0.6558 - val_accuracy: 0.6417\n",
            "Epoch 18/100\n",
            "255/255 [==============================] - 0s 2ms/step - loss: 0.5869 - accuracy: 0.7100 - val_loss: 0.6557 - val_accuracy: 0.6383\n",
            "Epoch 19/100\n",
            "255/255 [==============================] - 0s 2ms/step - loss: 0.5837 - accuracy: 0.7136 - val_loss: 0.6533 - val_accuracy: 0.6442\n",
            "Epoch 20/100\n",
            "255/255 [==============================] - 0s 2ms/step - loss: 0.5812 - accuracy: 0.7121 - val_loss: 0.6513 - val_accuracy: 0.6450\n",
            "Epoch 21/100\n",
            "255/255 [==============================] - 0s 2ms/step - loss: 0.5760 - accuracy: 0.7146 - val_loss: 0.6520 - val_accuracy: 0.6417\n",
            "Epoch 22/100\n",
            "255/255 [==============================] - 0s 2ms/step - loss: 0.5761 - accuracy: 0.7173 - val_loss: 0.6479 - val_accuracy: 0.6467\n",
            "Epoch 23/100\n",
            "255/255 [==============================] - 0s 2ms/step - loss: 0.5714 - accuracy: 0.7197 - val_loss: 0.6444 - val_accuracy: 0.6592\n",
            "Epoch 24/100\n",
            "255/255 [==============================] - 0s 2ms/step - loss: 0.5678 - accuracy: 0.7197 - val_loss: 0.6442 - val_accuracy: 0.6600\n",
            "Epoch 25/100\n",
            "255/255 [==============================] - 0s 2ms/step - loss: 0.5654 - accuracy: 0.7234 - val_loss: 0.6430 - val_accuracy: 0.6617\n",
            "Epoch 26/100\n",
            "255/255 [==============================] - 0s 2ms/step - loss: 0.5591 - accuracy: 0.7260 - val_loss: 0.6390 - val_accuracy: 0.6658\n",
            "Epoch 27/100\n",
            "255/255 [==============================] - 0s 2ms/step - loss: 0.5580 - accuracy: 0.7295 - val_loss: 0.6378 - val_accuracy: 0.6700\n",
            "Epoch 28/100\n",
            "255/255 [==============================] - 0s 2ms/step - loss: 0.5588 - accuracy: 0.7254 - val_loss: 0.6362 - val_accuracy: 0.6733\n",
            "Epoch 29/100\n",
            "255/255 [==============================] - 0s 2ms/step - loss: 0.5523 - accuracy: 0.7289 - val_loss: 0.6360 - val_accuracy: 0.6758\n",
            "Epoch 30/100\n",
            "255/255 [==============================] - 0s 2ms/step - loss: 0.5531 - accuracy: 0.7304 - val_loss: 0.6331 - val_accuracy: 0.6783\n",
            "Epoch 31/100\n",
            "255/255 [==============================] - 0s 2ms/step - loss: 0.5490 - accuracy: 0.7360 - val_loss: 0.6317 - val_accuracy: 0.6750\n",
            "Epoch 32/100\n",
            "255/255 [==============================] - 0s 2ms/step - loss: 0.5472 - accuracy: 0.7348 - val_loss: 0.6328 - val_accuracy: 0.6808\n",
            "Epoch 33/100\n",
            "255/255 [==============================] - 0s 2ms/step - loss: 0.5431 - accuracy: 0.7341 - val_loss: 0.6307 - val_accuracy: 0.6825\n",
            "Epoch 34/100\n",
            "255/255 [==============================] - 0s 2ms/step - loss: 0.5441 - accuracy: 0.7327 - val_loss: 0.6293 - val_accuracy: 0.6825\n",
            "Epoch 35/100\n",
            "255/255 [==============================] - 0s 2ms/step - loss: 0.5389 - accuracy: 0.7417 - val_loss: 0.6299 - val_accuracy: 0.6825\n",
            "Epoch 36/100\n",
            "255/255 [==============================] - 0s 2ms/step - loss: 0.5382 - accuracy: 0.7371 - val_loss: 0.6285 - val_accuracy: 0.6850\n",
            "Epoch 37/100\n",
            "255/255 [==============================] - 0s 2ms/step - loss: 0.5364 - accuracy: 0.7433 - val_loss: 0.6290 - val_accuracy: 0.6850\n",
            "Epoch 38/100\n",
            "255/255 [==============================] - 0s 2ms/step - loss: 0.5362 - accuracy: 0.7391 - val_loss: 0.6258 - val_accuracy: 0.6875\n",
            "Epoch 39/100\n",
            "255/255 [==============================] - 0s 2ms/step - loss: 0.5305 - accuracy: 0.7430 - val_loss: 0.6259 - val_accuracy: 0.6817\n",
            "Epoch 40/100\n",
            "255/255 [==============================] - 0s 2ms/step - loss: 0.5312 - accuracy: 0.7472 - val_loss: 0.6239 - val_accuracy: 0.6858\n",
            "Epoch 41/100\n",
            "255/255 [==============================] - 0s 2ms/step - loss: 0.5285 - accuracy: 0.7460 - val_loss: 0.6243 - val_accuracy: 0.6792\n",
            "Epoch 42/100\n",
            "255/255 [==============================] - 0s 2ms/step - loss: 0.5263 - accuracy: 0.7473 - val_loss: 0.6248 - val_accuracy: 0.6800\n",
            "Epoch 43/100\n",
            "255/255 [==============================] - 0s 2ms/step - loss: 0.5266 - accuracy: 0.7462 - val_loss: 0.6223 - val_accuracy: 0.6867\n",
            "Epoch 44/100\n",
            "255/255 [==============================] - 0s 2ms/step - loss: 0.5227 - accuracy: 0.7471 - val_loss: 0.6211 - val_accuracy: 0.6850\n",
            "Epoch 45/100\n",
            "255/255 [==============================] - 0s 2ms/step - loss: 0.5208 - accuracy: 0.7529 - val_loss: 0.6202 - val_accuracy: 0.6825\n",
            "Epoch 46/100\n",
            "255/255 [==============================] - 0s 2ms/step - loss: 0.5194 - accuracy: 0.7522 - val_loss: 0.6196 - val_accuracy: 0.6858\n",
            "Epoch 47/100\n",
            "255/255 [==============================] - 0s 2ms/step - loss: 0.5179 - accuracy: 0.7529 - val_loss: 0.6180 - val_accuracy: 0.6850\n",
            "Epoch 48/100\n",
            "255/255 [==============================] - 0s 2ms/step - loss: 0.5155 - accuracy: 0.7513 - val_loss: 0.6175 - val_accuracy: 0.6875\n",
            "Epoch 49/100\n",
            "255/255 [==============================] - 0s 2ms/step - loss: 0.5092 - accuracy: 0.7577 - val_loss: 0.6186 - val_accuracy: 0.6892\n",
            "Epoch 50/100\n",
            "255/255 [==============================] - 0s 2ms/step - loss: 0.5096 - accuracy: 0.7614 - val_loss: 0.6164 - val_accuracy: 0.6875\n",
            "Epoch 51/100\n",
            "255/255 [==============================] - 0s 2ms/step - loss: 0.5113 - accuracy: 0.7564 - val_loss: 0.6152 - val_accuracy: 0.6858\n",
            "Epoch 52/100\n",
            "255/255 [==============================] - 0s 2ms/step - loss: 0.5043 - accuracy: 0.7634 - val_loss: 0.6140 - val_accuracy: 0.6900\n",
            "Epoch 53/100\n",
            "255/255 [==============================] - 0s 2ms/step - loss: 0.5063 - accuracy: 0.7626 - val_loss: 0.6111 - val_accuracy: 0.6892\n",
            "Epoch 54/100\n",
            "255/255 [==============================] - 0s 2ms/step - loss: 0.5048 - accuracy: 0.7574 - val_loss: 0.6100 - val_accuracy: 0.6883\n",
            "Epoch 55/100\n",
            "255/255 [==============================] - 0s 2ms/step - loss: 0.5046 - accuracy: 0.7596 - val_loss: 0.6092 - val_accuracy: 0.6883\n",
            "Epoch 56/100\n",
            "255/255 [==============================] - 0s 2ms/step - loss: 0.4991 - accuracy: 0.7631 - val_loss: 0.6089 - val_accuracy: 0.6867\n",
            "Epoch 57/100\n",
            "255/255 [==============================] - 0s 2ms/step - loss: 0.4982 - accuracy: 0.7653 - val_loss: 0.6088 - val_accuracy: 0.6883\n",
            "Epoch 58/100\n",
            "255/255 [==============================] - 0s 2ms/step - loss: 0.4964 - accuracy: 0.7650 - val_loss: 0.6068 - val_accuracy: 0.6900\n",
            "Epoch 59/100\n",
            "255/255 [==============================] - 0s 2ms/step - loss: 0.4974 - accuracy: 0.7651 - val_loss: 0.6056 - val_accuracy: 0.6908\n",
            "Epoch 60/100\n",
            "255/255 [==============================] - 0s 2ms/step - loss: 0.4944 - accuracy: 0.7675 - val_loss: 0.6034 - val_accuracy: 0.6933\n",
            "Epoch 61/100\n",
            "255/255 [==============================] - 0s 2ms/step - loss: 0.4933 - accuracy: 0.7689 - val_loss: 0.6026 - val_accuracy: 0.6892\n",
            "Epoch 62/100\n",
            "255/255 [==============================] - 0s 2ms/step - loss: 0.4921 - accuracy: 0.7721 - val_loss: 0.6030 - val_accuracy: 0.6908\n",
            "Epoch 63/100\n",
            "255/255 [==============================] - 0s 2ms/step - loss: 0.4889 - accuracy: 0.7705 - val_loss: 0.6012 - val_accuracy: 0.6875\n",
            "Epoch 64/100\n",
            "255/255 [==============================] - 0s 2ms/step - loss: 0.4903 - accuracy: 0.7697 - val_loss: 0.5989 - val_accuracy: 0.6867\n",
            "Epoch 65/100\n",
            "255/255 [==============================] - 0s 2ms/step - loss: 0.4880 - accuracy: 0.7718 - val_loss: 0.5988 - val_accuracy: 0.6867\n",
            "Epoch 66/100\n",
            "255/255 [==============================] - 0s 2ms/step - loss: 0.4854 - accuracy: 0.7710 - val_loss: 0.5980 - val_accuracy: 0.6842\n",
            "Epoch 67/100\n",
            "255/255 [==============================] - 0s 2ms/step - loss: 0.4822 - accuracy: 0.7702 - val_loss: 0.5962 - val_accuracy: 0.6850\n",
            "Epoch 68/100\n",
            "255/255 [==============================] - 0s 2ms/step - loss: 0.4840 - accuracy: 0.7713 - val_loss: 0.5965 - val_accuracy: 0.6817\n",
            "Epoch 69/100\n",
            "255/255 [==============================] - 0s 2ms/step - loss: 0.4810 - accuracy: 0.7723 - val_loss: 0.5955 - val_accuracy: 0.6867\n",
            "Epoch 70/100\n",
            "255/255 [==============================] - 0s 2ms/step - loss: 0.4808 - accuracy: 0.7749 - val_loss: 0.5938 - val_accuracy: 0.6900\n",
            "Epoch 71/100\n",
            "255/255 [==============================] - 0s 2ms/step - loss: 0.4805 - accuracy: 0.7759 - val_loss: 0.5923 - val_accuracy: 0.6908\n",
            "Epoch 72/100\n",
            "255/255 [==============================] - 0s 2ms/step - loss: 0.4812 - accuracy: 0.7751 - val_loss: 0.5919 - val_accuracy: 0.6908\n",
            "Epoch 73/100\n",
            "255/255 [==============================] - 0s 2ms/step - loss: 0.4767 - accuracy: 0.7770 - val_loss: 0.5903 - val_accuracy: 0.6883\n",
            "Epoch 74/100\n",
            "255/255 [==============================] - 0s 2ms/step - loss: 0.4758 - accuracy: 0.7781 - val_loss: 0.5899 - val_accuracy: 0.6875\n",
            "Epoch 75/100\n",
            "255/255 [==============================] - 0s 2ms/step - loss: 0.4757 - accuracy: 0.7776 - val_loss: 0.5884 - val_accuracy: 0.6900\n",
            "Epoch 76/100\n",
            "255/255 [==============================] - 0s 2ms/step - loss: 0.4770 - accuracy: 0.7770 - val_loss: 0.5876 - val_accuracy: 0.6883\n",
            "Epoch 77/100\n",
            "255/255 [==============================] - 0s 2ms/step - loss: 0.4726 - accuracy: 0.7800 - val_loss: 0.5879 - val_accuracy: 0.6817\n",
            "Epoch 78/100\n",
            "255/255 [==============================] - 0s 2ms/step - loss: 0.4722 - accuracy: 0.7786 - val_loss: 0.5864 - val_accuracy: 0.6883\n",
            "Epoch 79/100\n",
            "255/255 [==============================] - 0s 2ms/step - loss: 0.4682 - accuracy: 0.7839 - val_loss: 0.5863 - val_accuracy: 0.6900\n",
            "Epoch 80/100\n",
            "255/255 [==============================] - 0s 2ms/step - loss: 0.4682 - accuracy: 0.7850 - val_loss: 0.5869 - val_accuracy: 0.6792\n",
            "Epoch 81/100\n",
            "255/255 [==============================] - 0s 2ms/step - loss: 0.4684 - accuracy: 0.7850 - val_loss: 0.5843 - val_accuracy: 0.6842\n",
            "Epoch 82/100\n",
            "255/255 [==============================] - 0s 2ms/step - loss: 0.4668 - accuracy: 0.7839 - val_loss: 0.5838 - val_accuracy: 0.6850\n",
            "Epoch 83/100\n",
            "255/255 [==============================] - 0s 2ms/step - loss: 0.4670 - accuracy: 0.7804 - val_loss: 0.5829 - val_accuracy: 0.6850\n",
            "Epoch 84/100\n",
            "255/255 [==============================] - 0s 2ms/step - loss: 0.4668 - accuracy: 0.7809 - val_loss: 0.5831 - val_accuracy: 0.6883\n",
            "Epoch 85/100\n",
            "255/255 [==============================] - 0s 2ms/step - loss: 0.4659 - accuracy: 0.7803 - val_loss: 0.5818 - val_accuracy: 0.6833\n",
            "Epoch 86/100\n",
            "255/255 [==============================] - 0s 2ms/step - loss: 0.4641 - accuracy: 0.7841 - val_loss: 0.5808 - val_accuracy: 0.6858\n",
            "Epoch 87/100\n",
            "255/255 [==============================] - 0s 2ms/step - loss: 0.4592 - accuracy: 0.7915 - val_loss: 0.5804 - val_accuracy: 0.6850\n",
            "Epoch 88/100\n",
            "255/255 [==============================] - 0s 2ms/step - loss: 0.4600 - accuracy: 0.7880 - val_loss: 0.5802 - val_accuracy: 0.6875\n",
            "Epoch 89/100\n",
            "255/255 [==============================] - 0s 2ms/step - loss: 0.4631 - accuracy: 0.7863 - val_loss: 0.5788 - val_accuracy: 0.6883\n",
            "Epoch 90/100\n",
            "255/255 [==============================] - 0s 2ms/step - loss: 0.4590 - accuracy: 0.7873 - val_loss: 0.5799 - val_accuracy: 0.6858\n",
            "Epoch 91/100\n",
            "255/255 [==============================] - 0s 2ms/step - loss: 0.4583 - accuracy: 0.7880 - val_loss: 0.5774 - val_accuracy: 0.6850\n",
            "Epoch 92/100\n",
            "255/255 [==============================] - 0s 2ms/step - loss: 0.4567 - accuracy: 0.7897 - val_loss: 0.5788 - val_accuracy: 0.6875\n",
            "Epoch 93/100\n",
            "255/255 [==============================] - 0s 2ms/step - loss: 0.4567 - accuracy: 0.7917 - val_loss: 0.5774 - val_accuracy: 0.6842\n",
            "Epoch 94/100\n",
            "255/255 [==============================] - 0s 2ms/step - loss: 0.4522 - accuracy: 0.7924 - val_loss: 0.5775 - val_accuracy: 0.6867\n",
            "Epoch 95/100\n",
            "255/255 [==============================] - 0s 2ms/step - loss: 0.4545 - accuracy: 0.7879 - val_loss: 0.5761 - val_accuracy: 0.6883\n",
            "Epoch 96/100\n",
            "255/255 [==============================] - 0s 2ms/step - loss: 0.4543 - accuracy: 0.7934 - val_loss: 0.5763 - val_accuracy: 0.6850\n",
            "Epoch 97/100\n",
            "255/255 [==============================] - 0s 2ms/step - loss: 0.4507 - accuracy: 0.7926 - val_loss: 0.5763 - val_accuracy: 0.6825\n",
            "Epoch 98/100\n",
            "255/255 [==============================] - 0s 2ms/step - loss: 0.4509 - accuracy: 0.7946 - val_loss: 0.5756 - val_accuracy: 0.6817\n",
            "Epoch 99/100\n",
            "255/255 [==============================] - 0s 2ms/step - loss: 0.4476 - accuracy: 0.8013 - val_loss: 0.5738 - val_accuracy: 0.6817\n",
            "Epoch 100/100\n",
            "255/255 [==============================] - 0s 2ms/step - loss: 0.4466 - accuracy: 0.7941 - val_loss: 0.5741 - val_accuracy: 0.6808\n"
          ],
          "name": "stdout"
        },
        {
          "output_type": "execute_result",
          "data": {
            "text/plain": [
              "<tensorflow.python.keras.callbacks.History at 0x7fa13523cfd0>"
            ]
          },
          "metadata": {
            "tags": []
          },
          "execution_count": 73
        }
      ]
    },
    {
      "cell_type": "code",
      "metadata": {
        "id": "5hslTknwUcsz",
        "colab": {
          "base_uri": "https://localhost:8080/",
          "height": 353
        },
        "outputId": "973af6f6-f274-4acc-c5ba-2b971a9aab10"
      },
      "source": [
        "model.summary()"
      ],
      "execution_count": null,
      "outputs": [
        {
          "output_type": "stream",
          "text": [
            "Model: \"sequential_7\"\n",
            "_________________________________________________________________\n",
            "Layer (type)                 Output Shape              Param #   \n",
            "=================================================================\n",
            "conv1d_6 (Conv1D)            (None, 6, 64)             256       \n",
            "_________________________________________________________________\n",
            "flatten_7 (Flatten)          (None, 384)               0         \n",
            "_________________________________________________________________\n",
            "dense_23 (Dense)             (None, 32)                12320     \n",
            "_________________________________________________________________\n",
            "dense_24 (Dense)             (None, 16)                528       \n",
            "_________________________________________________________________\n",
            "dropout_8 (Dropout)          (None, 16)                0         \n",
            "_________________________________________________________________\n",
            "dense_25 (Dense)             (None, 1)                 17        \n",
            "=================================================================\n",
            "Total params: 13,121\n",
            "Trainable params: 13,121\n",
            "Non-trainable params: 0\n",
            "_________________________________________________________________\n"
          ],
          "name": "stdout"
        }
      ]
    },
    {
      "cell_type": "code",
      "metadata": {
        "id": "KZOyIKV8UfBX",
        "colab": {
          "base_uri": "https://localhost:8080/",
          "height": 1000
        },
        "outputId": "f076971e-fae1-470b-e34a-f498dbf2bec5"
      },
      "source": [
        "pred_cnn = model.predict_classes(X_test_shaped)\n",
        "pred_cnn = average(pred_cnn)\n",
        "y_score_7 = model.predict_proba(X_test_shaped)\n",
        "acc7 = accuracy_score(y_test, np.array(pred_cnn))\n",
        "f1_score_7 = metrics.f1_score(y_test, pred_cnn)\n",
        "roc_7 = metrics.roc_auc_score(y_test, y_score_7)\n",
        "print([acc7,f1_score_7,roc_7])\n",
        "print(confusion_matrix(y_test, pred_cnn))\n",
        "\n",
        "\n",
        "\n",
        "import matplotlib.pyplot as plt\n",
        "plt.figure(figsize=(8,8))\n",
        "plt.plot([0, 1], [0, 1],'r--')\n",
        "fpr, tpr, thresholds = roc_curve(y_test, y_score_7)\n",
        "plt.plot(fpr, tpr, label= 'ROC curve (area = %0.2f)' % roc_7)\n",
        "plt.title('ROC of CNN')\n",
        "plt.xlabel('Fp Rate')\n",
        "plt.ylabel('Tp Rate')\n",
        "plt.legend()\n",
        "\n",
        "\n",
        "from sklearn.calibration import calibration_curve\n",
        "plt.figure(figsize=(8,8))\n",
        "plt.plot([0, 1], [0, 1], \"k:\", label=\"Perfectly calibrated\")\n",
        "fraction_of_positives, mean_predicted_value=calibration_curve(y_test,y_score_7,n_bins=10)\n",
        "plt.plot(mean_predicted_value, fraction_of_positives,\"s-\",\n",
        "                 label=\"%s\" % 'CNN')\n",
        "plt.legend(loc=\"lower right\")\n",
        "plt.title('CNN')"
      ],
      "execution_count": null,
      "outputs": [
        {
          "output_type": "stream",
          "text": [
            "[0.7191666666666666, 0.7421576128538638, 0.7770565972222222]\n",
            "[[756 444]\n",
            " [230 970]]\n"
          ],
          "name": "stdout"
        },
        {
          "output_type": "execute_result",
          "data": {
            "text/plain": [
              "Text(0.5, 1.0, 'CNN')"
            ]
          },
          "metadata": {
            "tags": []
          },
          "execution_count": 75
        },
        {
          "output_type": "display_data",
          "data": {
            "image/png": "[encoded data removed]",
            "text/plain": [
              "<Figure size 576x576 with 1 Axes>"
            ]
          },
          "metadata": {
            "tags": [],
            "needs_background": "light"
          }
        },
        {
          "output_type": "display_data",
          "data": {
            "image/png": "[encoded data removed]",
            "text/plain": [
              "<Figure size 576x576 with 1 Axes>"
            ]
          },
          "metadata": {
            "tags": [],
            "needs_background": "light"
          }
        }
      ]
    },
    {
      "cell_type": "code",
      "metadata": {
        "id": "3m2Nz9fDVrI6"
      },
      "source": [
        "import pandas as pd"
      ],
      "execution_count": null,
      "outputs": []
    },
    {
      "cell_type": "code",
      "metadata": {
        "id": "gKAOJ7NlVvoL"
      },
      "source": [
        "df = pd.read_csv('Fahad___final_with_main_features.csv',sep=',')"
      ],
      "execution_count": null,
      "outputs": []
    },
    {
      "cell_type": "code",
      "metadata": {
        "id": "0z2S642_V2ao"
      },
      "source": [
        "df=df.drop(df.columns[0], axis=1)"
      ],
      "execution_count": null,
      "outputs": []
    },
    {
      "cell_type": "code",
      "metadata": {
        "id": "K5EHUUuzV5aW"
      },
      "source": [
        "train_percentage = 17/22\n",
        "train_index = int(len(df)*train_percentage)\n",
        "test_index = len(df)-train_index"
      ],
      "execution_count": null,
      "outputs": []
    },
    {
      "cell_type": "code",
      "metadata": {
        "id": "qgcEgD0nV8pT"
      },
      "source": [
        "df_train = df[:train_index]\n",
        "df_test = df[-test_index:]"
      ],
      "execution_count": null,
      "outputs": []
    },
    {
      "cell_type": "code",
      "metadata": {
        "id": "TNmaYS4XV9p_"
      },
      "source": [
        "x_test = df_test.drop([\"Y\"],axis=1)\n",
        "y_test = df_test[\"Y\"]"
      ],
      "execution_count": null,
      "outputs": []
    },
    {
      "cell_type": "code",
      "metadata": {
        "id": "X-_nsawvWEkt"
      },
      "source": [
        "x_train = df_train.drop('Y',axis=1)\n",
        "y_train = df_train['Y']"
      ],
      "execution_count": null,
      "outputs": []
    },
    {
      "cell_type": "code",
      "metadata": {
        "id": "JBtrriHLWILk",
        "colab": {
          "base_uri": "https://localhost:8080/",
          "height": 34
        },
        "outputId": "e58d9c7e-3c43-46e8-add0-a895933ecfa2"
      },
      "source": [
        "x_test.shape"
      ],
      "execution_count": null,
      "outputs": [
        {
          "output_type": "execute_result",
          "data": {
            "text/plain": [
              "(2400, 8)"
            ]
          },
          "metadata": {
            "tags": []
          },
          "execution_count": 55
        }
      ]
    },
    {
      "cell_type": "code",
      "metadata": {
        "id": "fH6ebCc2WMQk",
        "colab": {
          "base_uri": "https://localhost:8080/",
          "height": 34
        },
        "outputId": "59213f5f-c83c-4889-d112-02607500faf8"
      },
      "source": [
        "x_train.shape\n"
      ],
      "execution_count": null,
      "outputs": [
        {
          "output_type": "execute_result",
          "data": {
            "text/plain": [
              "(8160, 8)"
            ]
          },
          "metadata": {
            "tags": []
          },
          "execution_count": 56
        }
      ]
    },
    {
      "cell_type": "code",
      "metadata": {
        "id": "PxdY1DOaWQo4"
      },
      "source": [
        "import numpy as np\n",
        "x_shaped_train  = np.array(x_train).reshape(1632,5,8)\n",
        "x_shaped_test  = np.array(x_test).reshape(480,5,8)"
      ],
      "execution_count": null,
      "outputs": []
    },
    {
      "cell_type": "code",
      "metadata": {
        "id": "qVX7S0g4WSkL",
        "colab": {
          "base_uri": "https://localhost:8080/",
          "height": 50
        },
        "outputId": "44583972-8355-4233-ea62-ab61c2145694"
      },
      "source": [
        "y_train = np.array(y_train)\n",
        "y_test = np.array(y_test)\n",
        "\n",
        "y_shaped_train  = []\n",
        "for i in range(0, len(y_train), 5):\n",
        "  y_shaped_train.append([y_train[i]])\n",
        "print(len(y_shaped_train))\n",
        "\n",
        "y_shaped_test  = []\n",
        "for i in range(0, len(y_test), 5):\n",
        "  y_shaped_test.append([y_test[i]])\n",
        "print(len(y_shaped_test))"
      ],
      "execution_count": null,
      "outputs": [
        {
          "output_type": "stream",
          "text": [
            "1632\n",
            "480\n"
          ],
          "name": "stdout"
        }
      ]
    },
    {
      "cell_type": "code",
      "metadata": {
        "id": "bZqE5_xVWbRx",
        "colab": {
          "base_uri": "https://localhost:8080/",
          "height": 34
        },
        "outputId": "a5e4b30c-421d-420c-aea9-77da0c219536"
      },
      "source": [
        "x_shaped_train.shape"
      ],
      "execution_count": null,
      "outputs": [
        {
          "output_type": "execute_result",
          "data": {
            "text/plain": [
              "(1632, 5, 8)"
            ]
          },
          "metadata": {
            "tags": []
          },
          "execution_count": 59
        }
      ]
    },
    {
      "cell_type": "code",
      "metadata": {
        "id": "RsDsXk8rWdQj",
        "colab": {
          "base_uri": "https://localhost:8080/",
          "height": 34
        },
        "outputId": "b06f8fb3-d649-40c0-aa51-39969a176fbb"
      },
      "source": [
        "x_shaped_test.shape"
      ],
      "execution_count": null,
      "outputs": [
        {
          "output_type": "execute_result",
          "data": {
            "text/plain": [
              "(480, 5, 8)"
            ]
          },
          "metadata": {
            "tags": []
          },
          "execution_count": 60
        }
      ]
    },
    {
      "cell_type": "code",
      "metadata": {
        "id": "BTuQwYPrWiSc",
        "colab": {
          "base_uri": "https://localhost:8080/",
          "height": 34
        },
        "outputId": "da5727cd-0ef6-4c98-d8b4-956c2450bdf2"
      },
      "source": [
        "y_shaped_train = np.array(y_shaped_train)\n",
        "y_shaped_train.shape"
      ],
      "execution_count": null,
      "outputs": [
        {
          "output_type": "execute_result",
          "data": {
            "text/plain": [
              "(1632, 1)"
            ]
          },
          "metadata": {
            "tags": []
          },
          "execution_count": 61
        }
      ]
    },
    {
      "cell_type": "code",
      "metadata": {
        "id": "c1l3LpLRWl15",
        "colab": {
          "base_uri": "https://localhost:8080/",
          "height": 34
        },
        "outputId": "86542c27-77af-45c4-fc4f-595f0ee12b56"
      },
      "source": [
        "y_shaped_test = np.array(y_shaped_test)\n",
        "y_shaped_test.shape"
      ],
      "execution_count": null,
      "outputs": [
        {
          "output_type": "execute_result",
          "data": {
            "text/plain": [
              "(480, 1)"
            ]
          },
          "metadata": {
            "tags": []
          },
          "execution_count": 62
        }
      ]
    },
    {
      "cell_type": "code",
      "metadata": {
        "id": "BKizG0G0Wsne",
        "colab": {
          "base_uri": "https://localhost:8080/",
          "height": 1000
        },
        "outputId": "84b2029d-1483-47eb-d76e-90297bedfff9"
      },
      "source": [
        "import numpy as np\n",
        "from keras.utils import to_categorical\n",
        "from keras.layers import Dense, Flatten, Dropout, ZeroPadding3D\n",
        "from keras.layers.recurrent import LSTM\n",
        "from keras.models import Sequential, load_model\n",
        "from keras.optimizers import Adam, RMSprop\n",
        "from keras.layers.wrappers import TimeDistributed\n",
        "from keras.layers.convolutional import (Conv2D, MaxPooling3D, Conv3D,\n",
        "    MaxPooling2D)\n",
        "from collections import deque\n",
        "import sys\n",
        "\n",
        "metrics = ['accuracy']\n",
        "model = Sequential()\n",
        "model.add(Dense(1024, activation='sigmoid'))\n",
        "model.add(LSTM(512, return_sequences=True,\n",
        "                       input_shape=(5, 4,),\n",
        "                       dropout=0.5))\n",
        "\n",
        "model.add(Flatten())\n",
        "# Dense is fully connected layer. 16 hidden units\n",
        "# activation for lstm is basically sigmoid or tanh\n",
        "model.add(Dense(216, activation='sigmoid')) #FC1\n",
        "model.add(Dense(32, activation='tanh')) #FC2\n",
        "model.add(Dropout(0.5))\n",
        "model.add(Dense(16, activation='relu'))#FC3\n",
        "model.add(Dropout(0.5))\n",
        "model.add(Dense(1, activation='tanh'))#Output Layer\n",
        "optimizer = Adam(lr=0.00005)\n",
        "model.compile(loss='binary_crossentropy', optimizer=optimizer, metrics=metrics)\n",
        "model.fit(x_shaped_train, y_shaped_train, validation_data = (x_shaped_test,y_shaped_test), epochs=50, batch_size=  10)\n",
        "model.predict_classes(x_shaped_test)"
      ],
      "execution_count": null,
      "outputs": [
        {
          "output_type": "stream",
          "text": [
            "Epoch 1/50\n",
            "164/164 [==============================] - 21s 131ms/step - loss: 1.8104 - accuracy: 0.4908 - val_loss: 0.7070 - val_accuracy: 0.5000\n",
            "Epoch 2/50\n",
            "164/164 [==============================] - 21s 128ms/step - loss: 1.1918 - accuracy: 0.5190 - val_loss: 0.7248 - val_accuracy: 0.5000\n",
            "Epoch 3/50\n",
            "164/164 [==============================] - 21s 128ms/step - loss: 1.1946 - accuracy: 0.5214 - val_loss: 0.7111 - val_accuracy: 0.4833\n",
            "Epoch 4/50\n",
            "164/164 [==============================] - 21s 128ms/step - loss: 1.1988 - accuracy: 0.5067 - val_loss: 0.6855 - val_accuracy: 0.6375\n",
            "Epoch 5/50\n",
            "164/164 [==============================] - 21s 127ms/step - loss: 1.0533 - accuracy: 0.5276 - val_loss: 0.6862 - val_accuracy: 0.6500\n",
            "Epoch 6/50\n",
            "164/164 [==============================] - 21s 128ms/step - loss: 0.9829 - accuracy: 0.5129 - val_loss: 0.6905 - val_accuracy: 0.6167\n",
            "Epoch 7/50\n",
            "164/164 [==============================] - 21s 127ms/step - loss: 1.0082 - accuracy: 0.5214 - val_loss: 0.7058 - val_accuracy: 0.5250\n",
            "Epoch 8/50\n",
            "164/164 [==============================] - 21s 127ms/step - loss: 1.0093 - accuracy: 0.5423 - val_loss: 0.7217 - val_accuracy: 0.5167\n",
            "Epoch 9/50\n",
            "164/164 [==============================] - 21s 128ms/step - loss: 0.9028 - accuracy: 0.5778 - val_loss: 0.7046 - val_accuracy: 0.6500\n",
            "Epoch 10/50\n",
            "164/164 [==============================] - 21s 128ms/step - loss: 0.9842 - accuracy: 0.5392 - val_loss: 0.7105 - val_accuracy: 0.6375\n",
            "Epoch 11/50\n",
            "164/164 [==============================] - 21s 127ms/step - loss: 0.9023 - accuracy: 0.5833 - val_loss: 0.7182 - val_accuracy: 0.6375\n",
            "Epoch 12/50\n",
            "164/164 [==============================] - 21s 127ms/step - loss: 0.9354 - accuracy: 0.5741 - val_loss: 0.7187 - val_accuracy: 0.6375\n",
            "Epoch 13/50\n",
            "164/164 [==============================] - 21s 127ms/step - loss: 0.9590 - accuracy: 0.5564 - val_loss: 0.7204 - val_accuracy: 0.6417\n",
            "Epoch 14/50\n",
            "164/164 [==============================] - 21s 127ms/step - loss: 0.9689 - accuracy: 0.5447 - val_loss: 0.7110 - val_accuracy: 0.6375\n",
            "Epoch 15/50\n",
            "164/164 [==============================] - 21s 128ms/step - loss: 0.9125 - accuracy: 0.5533 - val_loss: 0.7178 - val_accuracy: 0.6333\n",
            "Epoch 16/50\n",
            "164/164 [==============================] - 21s 127ms/step - loss: 0.9208 - accuracy: 0.5790 - val_loss: 0.7484 - val_accuracy: 0.6292\n",
            "Epoch 17/50\n",
            "164/164 [==============================] - 21s 127ms/step - loss: 0.8643 - accuracy: 0.5656 - val_loss: 0.7500 - val_accuracy: 0.6333\n",
            "Epoch 18/50\n",
            "164/164 [==============================] - 21s 127ms/step - loss: 1.0032 - accuracy: 0.5386 - val_loss: 0.7221 - val_accuracy: 0.6375\n",
            "Epoch 19/50\n",
            "164/164 [==============================] - 21s 127ms/step - loss: 1.0471 - accuracy: 0.5564 - val_loss: 0.6990 - val_accuracy: 0.6458\n",
            "Epoch 20/50\n",
            "164/164 [==============================] - 21s 127ms/step - loss: 0.9207 - accuracy: 0.5460 - val_loss: 0.7189 - val_accuracy: 0.6208\n",
            "Epoch 21/50\n",
            "164/164 [==============================] - 21s 127ms/step - loss: 0.9703 - accuracy: 0.5515 - val_loss: 0.7303 - val_accuracy: 0.6375\n",
            "Epoch 22/50\n",
            "164/164 [==============================] - 21s 128ms/step - loss: 0.8621 - accuracy: 0.5778 - val_loss: 0.7406 - val_accuracy: 0.6458\n",
            "Epoch 23/50\n",
            "164/164 [==============================] - 21s 127ms/step - loss: 0.8668 - accuracy: 0.5588 - val_loss: 0.7056 - val_accuracy: 0.6292\n",
            "Epoch 24/50\n",
            "164/164 [==============================] - 21s 127ms/step - loss: 0.9459 - accuracy: 0.5484 - val_loss: 0.6996 - val_accuracy: 0.6208\n",
            "Epoch 25/50\n",
            "164/164 [==============================] - 21s 127ms/step - loss: 0.8615 - accuracy: 0.5527 - val_loss: 0.6916 - val_accuracy: 0.6417\n",
            "Epoch 26/50\n",
            "164/164 [==============================] - 21s 127ms/step - loss: 0.7966 - accuracy: 0.5564 - val_loss: 0.7032 - val_accuracy: 0.6375\n",
            "Epoch 27/50\n",
            "164/164 [==============================] - 21s 127ms/step - loss: 0.7696 - accuracy: 0.5711 - val_loss: 0.7290 - val_accuracy: 0.6375\n",
            "Epoch 28/50\n",
            "164/164 [==============================] - 21s 127ms/step - loss: 0.7913 - accuracy: 0.5790 - val_loss: 0.6979 - val_accuracy: 0.6375\n",
            "Epoch 29/50\n",
            "164/164 [==============================] - 21s 127ms/step - loss: 0.7889 - accuracy: 0.5729 - val_loss: 0.6983 - val_accuracy: 0.6375\n",
            "Epoch 30/50\n",
            "164/164 [==============================] - 21s 127ms/step - loss: 0.7716 - accuracy: 0.5711 - val_loss: 0.6965 - val_accuracy: 0.6375\n",
            "Epoch 31/50\n",
            "164/164 [==============================] - 21s 127ms/step - loss: 0.8245 - accuracy: 0.5846 - val_loss: 0.6954 - val_accuracy: 0.6250\n",
            "Epoch 32/50\n",
            "164/164 [==============================] - 21s 128ms/step - loss: 0.7782 - accuracy: 0.5754 - val_loss: 0.7070 - val_accuracy: 0.6250\n",
            "Epoch 33/50\n",
            "164/164 [==============================] - 21s 128ms/step - loss: 0.7887 - accuracy: 0.5692 - val_loss: 0.7009 - val_accuracy: 0.6375\n",
            "Epoch 34/50\n",
            "164/164 [==============================] - 21s 127ms/step - loss: 0.7924 - accuracy: 0.5846 - val_loss: 0.7033 - val_accuracy: 0.6375\n",
            "Epoch 35/50\n",
            "164/164 [==============================] - 21s 128ms/step - loss: 0.7860 - accuracy: 0.5790 - val_loss: 0.7115 - val_accuracy: 0.6458\n",
            "Epoch 36/50\n",
            "164/164 [==============================] - 21s 127ms/step - loss: 0.7817 - accuracy: 0.5815 - val_loss: 0.6966 - val_accuracy: 0.6208\n",
            "Epoch 37/50\n",
            "164/164 [==============================] - 21s 126ms/step - loss: 0.6950 - accuracy: 0.6195 - val_loss: 0.7009 - val_accuracy: 0.6208\n",
            "Epoch 38/50\n",
            "164/164 [==============================] - 21s 125ms/step - loss: 0.7440 - accuracy: 0.6091 - val_loss: 0.7000 - val_accuracy: 0.6375\n",
            "Epoch 39/50\n",
            "164/164 [==============================] - 21s 126ms/step - loss: 0.9157 - accuracy: 0.5637 - val_loss: 0.6697 - val_accuracy: 0.6333\n",
            "Epoch 40/50\n",
            "164/164 [==============================] - 21s 126ms/step - loss: 0.9138 - accuracy: 0.5803 - val_loss: 0.6758 - val_accuracy: 0.6458\n",
            "Epoch 41/50\n",
            "164/164 [==============================] - 21s 127ms/step - loss: 0.7658 - accuracy: 0.5925 - val_loss: 0.6784 - val_accuracy: 0.6417\n",
            "Epoch 42/50\n",
            "164/164 [==============================] - 21s 128ms/step - loss: 0.8161 - accuracy: 0.5833 - val_loss: 0.6756 - val_accuracy: 0.6375\n",
            "Epoch 43/50\n",
            "164/164 [==============================] - 21s 127ms/step - loss: 0.7573 - accuracy: 0.6054 - val_loss: 0.6776 - val_accuracy: 0.6292\n",
            "Epoch 44/50\n",
            "164/164 [==============================] - 21s 127ms/step - loss: 0.7616 - accuracy: 0.5901 - val_loss: 0.6825 - val_accuracy: 0.6375\n",
            "Epoch 45/50\n",
            "164/164 [==============================] - 21s 127ms/step - loss: 0.7375 - accuracy: 0.5974 - val_loss: 0.6879 - val_accuracy: 0.6250\n",
            "Epoch 46/50\n",
            "164/164 [==============================] - 21s 127ms/step - loss: 0.7659 - accuracy: 0.5827 - val_loss: 0.7125 - val_accuracy: 0.6417\n",
            "Epoch 47/50\n",
            "164/164 [==============================] - 21s 127ms/step - loss: 0.7376 - accuracy: 0.6078 - val_loss: 0.7389 - val_accuracy: 0.6333\n",
            "Epoch 48/50\n",
            "164/164 [==============================] - 21s 127ms/step - loss: 0.7661 - accuracy: 0.5956 - val_loss: 0.7023 - val_accuracy: 0.6333\n",
            "Epoch 49/50\n",
            "164/164 [==============================] - 21s 127ms/step - loss: 0.6967 - accuracy: 0.6121 - val_loss: 0.7020 - val_accuracy: 0.6292\n",
            "Epoch 50/50\n",
            "164/164 [==============================] - 21s 128ms/step - loss: 0.7471 - accuracy: 0.5864 - val_loss: 0.7254 - val_accuracy: 0.6417\n"
          ],
          "name": "stdout"
        },
        {
          "output_type": "execute_result",
          "data": {
            "text/plain": [
              "array([[0],\n",
              "       [0],\n",
              "       [0],\n",
              "       [0],\n",
              "       [1],\n",
              "       [0],\n",
              "       [1],\n",
              "       [1],\n",
              "       [1],\n",
              "       [1],\n",
              "       [1],\n",
              "       [1],\n",
              "       [1],\n",
              "       [1],\n",
              "       [1],\n",
              "       [1],\n",
              "       [1],\n",
              "       [1],\n",
              "       [1],\n",
              "       [1],\n",
              "       [1],\n",
              "       [1],\n",
              "       [1],\n",
              "       [1],\n",
              "       [1],\n",
              "       [1],\n",
              "       [1],\n",
              "       [1],\n",
              "       [1],\n",
              "       [1],\n",
              "       [1],\n",
              "       [1],\n",
              "       [1],\n",
              "       [1],\n",
              "       [1],\n",
              "       [1],\n",
              "       [1],\n",
              "       [1],\n",
              "       [1],\n",
              "       [1],\n",
              "       [1],\n",
              "       [1],\n",
              "       [1],\n",
              "       [1],\n",
              "       [1],\n",
              "       [1],\n",
              "       [1],\n",
              "       [1],\n",
              "       [0],\n",
              "       [0],\n",
              "       [0],\n",
              "       [0],\n",
              "       [0],\n",
              "       [1],\n",
              "       [1],\n",
              "       [1],\n",
              "       [1],\n",
              "       [1],\n",
              "       [1],\n",
              "       [0],\n",
              "       [0],\n",
              "       [0],\n",
              "       [0],\n",
              "       [1],\n",
              "       [1],\n",
              "       [1],\n",
              "       [1],\n",
              "       [1],\n",
              "       [1],\n",
              "       [1],\n",
              "       [1],\n",
              "       [1],\n",
              "       [1],\n",
              "       [1],\n",
              "       [1],\n",
              "       [1],\n",
              "       [1],\n",
              "       [1],\n",
              "       [1],\n",
              "       [1],\n",
              "       [1],\n",
              "       [1],\n",
              "       [1],\n",
              "       [1],\n",
              "       [1],\n",
              "       [1],\n",
              "       [1],\n",
              "       [1],\n",
              "       [1],\n",
              "       [1],\n",
              "       [1],\n",
              "       [1],\n",
              "       [1],\n",
              "       [1],\n",
              "       [1],\n",
              "       [1],\n",
              "       [0],\n",
              "       [0],\n",
              "       [0],\n",
              "       [0],\n",
              "       [0],\n",
              "       [0],\n",
              "       [0],\n",
              "       [0],\n",
              "       [0],\n",
              "       [0],\n",
              "       [0],\n",
              "       [0],\n",
              "       [0],\n",
              "       [0],\n",
              "       [0],\n",
              "       [0],\n",
              "       [0],\n",
              "       [0],\n",
              "       [0],\n",
              "       [0],\n",
              "       [0],\n",
              "       [0],\n",
              "       [0],\n",
              "       [0],\n",
              "       [0],\n",
              "       [0],\n",
              "       [0],\n",
              "       [0],\n",
              "       [1],\n",
              "       [1],\n",
              "       [1],\n",
              "       [1],\n",
              "       [1],\n",
              "       [1],\n",
              "       [1],\n",
              "       [0],\n",
              "       [0],\n",
              "       [0],\n",
              "       [0],\n",
              "       [0],\n",
              "       [0],\n",
              "       [1],\n",
              "       [0],\n",
              "       [0],\n",
              "       [0],\n",
              "       [0],\n",
              "       [0],\n",
              "       [0],\n",
              "       [1],\n",
              "       [0],\n",
              "       [0],\n",
              "       [1],\n",
              "       [1],\n",
              "       [1],\n",
              "       [1],\n",
              "       [1],\n",
              "       [1],\n",
              "       [1],\n",
              "       [1],\n",
              "       [1],\n",
              "       [1],\n",
              "       [1],\n",
              "       [1],\n",
              "       [1],\n",
              "       [1],\n",
              "       [1],\n",
              "       [1],\n",
              "       [1],\n",
              "       [1],\n",
              "       [1],\n",
              "       [1],\n",
              "       [1],\n",
              "       [1],\n",
              "       [1],\n",
              "       [1],\n",
              "       [1],\n",
              "       [1],\n",
              "       [1],\n",
              "       [1],\n",
              "       [1],\n",
              "       [1],\n",
              "       [1],\n",
              "       [1],\n",
              "       [1],\n",
              "       [1],\n",
              "       [1],\n",
              "       [1],\n",
              "       [1],\n",
              "       [1],\n",
              "       [1],\n",
              "       [1],\n",
              "       [1],\n",
              "       [1],\n",
              "       [1],\n",
              "       [1],\n",
              "       [1],\n",
              "       [0],\n",
              "       [0],\n",
              "       [0],\n",
              "       [0],\n",
              "       [0],\n",
              "       [0],\n",
              "       [0],\n",
              "       [0],\n",
              "       [0],\n",
              "       [0],\n",
              "       [0],\n",
              "       [0],\n",
              "       [0],\n",
              "       [0],\n",
              "       [0],\n",
              "       [0],\n",
              "       [0],\n",
              "       [0],\n",
              "       [0],\n",
              "       [0],\n",
              "       [0],\n",
              "       [0],\n",
              "       [0],\n",
              "       [0],\n",
              "       [0],\n",
              "       [0],\n",
              "       [0],\n",
              "       [0],\n",
              "       [1],\n",
              "       [1],\n",
              "       [1],\n",
              "       [1],\n",
              "       [1],\n",
              "       [1],\n",
              "       [1],\n",
              "       [0],\n",
              "       [0],\n",
              "       [0],\n",
              "       [0],\n",
              "       [0],\n",
              "       [0],\n",
              "       [1],\n",
              "       [0],\n",
              "       [0],\n",
              "       [0],\n",
              "       [0],\n",
              "       [0],\n",
              "       [0],\n",
              "       [1],\n",
              "       [0],\n",
              "       [0],\n",
              "       [1],\n",
              "       [1],\n",
              "       [1],\n",
              "       [1],\n",
              "       [1],\n",
              "       [1],\n",
              "       [1],\n",
              "       [1],\n",
              "       [1],\n",
              "       [1],\n",
              "       [1],\n",
              "       [1],\n",
              "       [1],\n",
              "       [1],\n",
              "       [1],\n",
              "       [1],\n",
              "       [1],\n",
              "       [1],\n",
              "       [1],\n",
              "       [1],\n",
              "       [1],\n",
              "       [1],\n",
              "       [1],\n",
              "       [1],\n",
              "       [1],\n",
              "       [1],\n",
              "       [1],\n",
              "       [1],\n",
              "       [1],\n",
              "       [1],\n",
              "       [1],\n",
              "       [1],\n",
              "       [1],\n",
              "       [1],\n",
              "       [1],\n",
              "       [1],\n",
              "       [1],\n",
              "       [1],\n",
              "       [1],\n",
              "       [1],\n",
              "       [1],\n",
              "       [1],\n",
              "       [1],\n",
              "       [1],\n",
              "       [1],\n",
              "       [0],\n",
              "       [0],\n",
              "       [0],\n",
              "       [0],\n",
              "       [1],\n",
              "       [0],\n",
              "       [1],\n",
              "       [1],\n",
              "       [1],\n",
              "       [1],\n",
              "       [1],\n",
              "       [1],\n",
              "       [1],\n",
              "       [1],\n",
              "       [1],\n",
              "       [1],\n",
              "       [1],\n",
              "       [1],\n",
              "       [1],\n",
              "       [1],\n",
              "       [1],\n",
              "       [1],\n",
              "       [1],\n",
              "       [1],\n",
              "       [1],\n",
              "       [1],\n",
              "       [1],\n",
              "       [1],\n",
              "       [1],\n",
              "       [1],\n",
              "       [1],\n",
              "       [1],\n",
              "       [1],\n",
              "       [1],\n",
              "       [1],\n",
              "       [1],\n",
              "       [1],\n",
              "       [1],\n",
              "       [1],\n",
              "       [1],\n",
              "       [1],\n",
              "       [1],\n",
              "       [1],\n",
              "       [1],\n",
              "       [1],\n",
              "       [1],\n",
              "       [1],\n",
              "       [1],\n",
              "       [0],\n",
              "       [0],\n",
              "       [0],\n",
              "       [0],\n",
              "       [0],\n",
              "       [1],\n",
              "       [1],\n",
              "       [1],\n",
              "       [1],\n",
              "       [1],\n",
              "       [1],\n",
              "       [0],\n",
              "       [0],\n",
              "       [0],\n",
              "       [0],\n",
              "       [1],\n",
              "       [1],\n",
              "       [1],\n",
              "       [1],\n",
              "       [1],\n",
              "       [1],\n",
              "       [1],\n",
              "       [1],\n",
              "       [1],\n",
              "       [1],\n",
              "       [1],\n",
              "       [1],\n",
              "       [1],\n",
              "       [1],\n",
              "       [1],\n",
              "       [1],\n",
              "       [1],\n",
              "       [1],\n",
              "       [1],\n",
              "       [1],\n",
              "       [1],\n",
              "       [1],\n",
              "       [1],\n",
              "       [1],\n",
              "       [1],\n",
              "       [1],\n",
              "       [1],\n",
              "       [1],\n",
              "       [1],\n",
              "       [1],\n",
              "       [1],\n",
              "       [1],\n",
              "       [1],\n",
              "       [0],\n",
              "       [0],\n",
              "       [0],\n",
              "       [0],\n",
              "       [1],\n",
              "       [0],\n",
              "       [1],\n",
              "       [1],\n",
              "       [1],\n",
              "       [1],\n",
              "       [1],\n",
              "       [1],\n",
              "       [1],\n",
              "       [1],\n",
              "       [1],\n",
              "       [1],\n",
              "       [1],\n",
              "       [1],\n",
              "       [1],\n",
              "       [1],\n",
              "       [1],\n",
              "       [1],\n",
              "       [1],\n",
              "       [1],\n",
              "       [1],\n",
              "       [1],\n",
              "       [1],\n",
              "       [1],\n",
              "       [1],\n",
              "       [1],\n",
              "       [1],\n",
              "       [1],\n",
              "       [1],\n",
              "       [1],\n",
              "       [1],\n",
              "       [1],\n",
              "       [1],\n",
              "       [1],\n",
              "       [1],\n",
              "       [1],\n",
              "       [1],\n",
              "       [1],\n",
              "       [1],\n",
              "       [1],\n",
              "       [1],\n",
              "       [1],\n",
              "       [1],\n",
              "       [1],\n",
              "       [0],\n",
              "       [0],\n",
              "       [0],\n",
              "       [0],\n",
              "       [1],\n",
              "       [0],\n",
              "       [1],\n",
              "       [1],\n",
              "       [1],\n",
              "       [1],\n",
              "       [1],\n",
              "       [1],\n",
              "       [1],\n",
              "       [1],\n",
              "       [1],\n",
              "       [1],\n",
              "       [1],\n",
              "       [1],\n",
              "       [1],\n",
              "       [1],\n",
              "       [1],\n",
              "       [1],\n",
              "       [1],\n",
              "       [1],\n",
              "       [1],\n",
              "       [1],\n",
              "       [1],\n",
              "       [1],\n",
              "       [1],\n",
              "       [1],\n",
              "       [1],\n",
              "       [1],\n",
              "       [1],\n",
              "       [1],\n",
              "       [1],\n",
              "       [1],\n",
              "       [1],\n",
              "       [1],\n",
              "       [1],\n",
              "       [1],\n",
              "       [1],\n",
              "       [1],\n",
              "       [1],\n",
              "       [1],\n",
              "       [1],\n",
              "       [1],\n",
              "       [1],\n",
              "       [1]], dtype=int32)"
            ]
          },
          "metadata": {
            "tags": []
          },
          "execution_count": 63
        }
      ]
    },
    {
      "cell_type": "code",
      "metadata": {
        "id": "TWrDxewea8B8",
        "colab": {
          "base_uri": "https://localhost:8080/",
          "height": 67
        },
        "outputId": "aaa320e2-bd37-4865-ffba-4e6fddc19dff"
      },
      "source": [
        "from sklearn.metrics import confusion_matrix\n",
        "from sklearn.metrics import roc_curve, roc_auc_score, f1_score\n",
        "from sklearn.metrics import accuracy_score\n",
        "from sklearn import metrics\n",
        "\n",
        "pred_rnn = model.predict_classes(x_shaped_test)\n",
        "y_score_10 = model.predict_proba(x_shaped_test)\n",
        "acc10 = accuracy_score(y_shaped_test, pred_rnn)\n",
        "f1_score_10 = metrics.f1_score(y_shaped_test, np.array(pred_rnn))\n",
        "roc_10 = metrics.roc_auc_score(y_shaped_test, y_score_10)\n",
        "print([acc10, f1_score_10, roc_10])\n",
        "print(confusion_matrix(y_shaped_test, pred_rnn))"
      ],
      "execution_count": null,
      "outputs": [
        {
          "output_type": "stream",
          "text": [
            "[0.6416666666666667, 0.7123745819397993, 0.6418402777777777]\n",
            "[[ 95 145]\n",
            " [ 27 213]]\n"
          ],
          "name": "stdout"
        }
      ]
    },
    {
      "cell_type": "code",
      "metadata": {
        "id": "mZsWRCXJa-eE",
        "colab": {
          "base_uri": "https://localhost:8080/",
          "height": 530
        },
        "outputId": "a71d5c16-b2b1-46d7-c94c-aaf4d547742b"
      },
      "source": [
        "import matplotlib.pyplot as plt\n",
        "plt.figure(figsize=(8,8))\n",
        "plt.plot([0, 1], [0, 1],'r--')\n",
        "fpr, tpr, thresholds = roc_curve(y_shaped_test, y_score_10)\n",
        "plt.plot(fpr, tpr, label= 'ROC curve (area = %0.2f)' % roc_10)\n",
        "plt.title('ROC of LSTM')\n",
        "plt.xlabel('Fp Rate')\n",
        "plt.ylabel('Tp Rate')\n",
        "plt.legend()"
      ],
      "execution_count": null,
      "outputs": [
        {
          "output_type": "execute_result",
          "data": {
            "text/plain": [
              "<matplotlib.legend.Legend at 0x7fa137ffd710>"
            ]
          },
          "metadata": {
            "tags": []
          },
          "execution_count": 65
        },
        {
          "output_type": "display_data",
          "data": {
            "image/png": "[encoded data removed]",
            "text/plain": [
              "<Figure size 576x576 with 1 Axes>"
            ]
          },
          "metadata": {
            "tags": [],
            "needs_background": "light"
          }
        }
      ]
    },
    {
      "cell_type": "code",
      "metadata": {
        "id": "yi63Bm1IbVXx",
        "colab": {
          "base_uri": "https://localhost:8080/",
          "height": 500
        },
        "outputId": "8bc6b06d-e1b8-4904-d6be-085d87d785c8"
      },
      "source": [
        "from sklearn.calibration import calibration_curve\n",
        "plt.figure(figsize=(8,8))\n",
        "plt.plot([0, 1], [0, 1], \"k:\", label=\"Perfectly calibrated\")\n",
        "fraction_of_positives, mean_predicted_value=calibration_curve(y_shaped_test,y_score_10,n_bins=10)\n",
        "plt.plot(mean_predicted_value, fraction_of_positives,\"s-\",\n",
        "                 label=\"%s\" % 'LSTM')"
      ],
      "execution_count": null,
      "outputs": [
        {
          "output_type": "execute_result",
          "data": {
            "text/plain": [
              "[<matplotlib.lines.Line2D at 0x7fa13801fdd8>]"
            ]
          },
          "metadata": {
            "tags": []
          },
          "execution_count": 66
        },
        {
          "output_type": "display_data",
          "data": {
            "image/png": "[encoded data removed]",
            "text/plain": [
              "<Figure size 576x576 with 1 Axes>"
            ]
          },
          "metadata": {
            "tags": [],
            "needs_background": "light"
          }
        }
      ]
    }
  ]
}